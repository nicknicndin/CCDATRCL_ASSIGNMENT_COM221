{
  "nbformat": 4,
  "nbformat_minor": 0,
  "metadata": {
    "colab": {
      "provenance": []
    },
    "kernelspec": {
      "name": "python3",
      "display_name": "Python 3"
    },
    "language_info": {
      "name": "python"
    }
  },
  "cells": [
    {
      "cell_type": "code",
      "execution_count": null,
      "metadata": {
        "id": "RFrb0tY94Q7v"
      },
      "outputs": [],
      "source": []
    },
    {
      "cell_type": "markdown",
      "metadata": {
        "id": "QNWAYtOH8JJM"
      },
      "source": [
        "# Exercise 2"
      ]
    },
    {
      "cell_type": "markdown",
      "metadata": {
        "id": "WqS_i0U78JJQ"
      },
      "source": [
        "#### Pre-defined stack functions"
      ]
    },
    {
      "cell_type": "code",
      "execution_count": null,
      "metadata": {
        "id": "Q55AdD2y8JJR"
      },
      "outputs": [],
      "source": [
        "# Creating a stack\n",
        "def create_stack():\n",
        "    stack = []\n",
        "    return stack\n",
        "\n",
        "def print_stack(stack):\n",
        "\n",
        "    if (check_empty(stack)):\n",
        "            return \"stack is empty\"\n",
        "\n",
        "    # Create a copy of the stack and reverse the elements\n",
        "    tempStack = stack.copy()\n",
        "    tempStack.reverse()\n",
        "\n",
        "    # Print all elements using a loop\n",
        "    for i in tempStack:\n",
        "        print(i)\n",
        "\n",
        "    # Delete the copy to free up memory\n",
        "    del tempStack\n",
        "\n",
        "# Creating an empty stack\n",
        "def check_empty(stack):\n",
        "    return len(stack) == 0\n",
        "\n",
        "\n",
        "# Adding items into the stack\n",
        "def push(stack, item):\n",
        "    stack.append(item)\n",
        "    print(\"pushed item: \", item)\n",
        "\n",
        "\n",
        "# Removing an element from the stack\n",
        "def pop(stack):\n",
        "    if (check_empty(stack)):\n",
        "        return \"stack is empty\"\n",
        "\n",
        "    return stack.pop()\n",
        "\n",
        "def peek(stack):\n",
        "\n",
        "    # Use negative indexing to display the last element of the list\n",
        "    print(stack[-1])\n"
      ]
    },
    {
      "cell_type": "markdown",
      "metadata": {
        "id": "z5FA3bY38JJT"
      },
      "source": [
        "#### 1. Create a burger stack.  \n",
        "\n",
        "The output of the stack should be in this order:\n",
        "\n",
        "- Bun\n",
        "\n",
        "- Tomato\n",
        "\n",
        "- Lettuce\n",
        "\n",
        "- Cheese\n",
        "\n",
        "- Patty\n",
        "\n",
        "- Bun"
      ]
    },
    {
      "cell_type": "code",
      "execution_count": 1,
      "metadata": {
        "id": "n6yPehQq8JJU",
        "colab": {
          "base_uri": "https://localhost:8080/"
        },
        "outputId": "b77df4a9-9374-4fe7-bbba-891f698b8db4"
      },
      "outputs": [
        {
          "output_type": "execute_result",
          "data": {
            "text/plain": [
              "['Bun', 'Patty', 'Cheese', 'Lettuce', 'Tomato', 'Bun']"
            ]
          },
          "metadata": {},
          "execution_count": 1
        }
      ],
      "source": [
        "# Put your answer here\n",
        "\n",
        "def burger():\n",
        "    ingredrients = [\"Bun\",\"Patty\",\"Cheese\",\"Lettuce\",\"Tomato\",\"Bun\"]\n",
        "    return ingredrients\n",
        "\n",
        "burger()"
      ]
    },
    {
      "cell_type": "markdown",
      "metadata": {
        "id": "W4XvryDA8JJU"
      },
      "source": [
        "#### 2. Reverse a string using a stack\n",
        "\n",
        "Given two stacks:\n",
        "\n",
        "**name_stack = ['E', 'L', 'I', 'Z', 'E', 'R']**\n",
        "\n",
        "**reversed_stack = []**\n",
        "\n",
        "Use your **firstname** and pop each letter from the **name_stack** and push each element into the **reversed_stack**\n",
        "\n",
        "-----------------\n",
        "**Expected output:**\n",
        "\n",
        "print(reversed_stack)\n",
        "\n",
        "['R', 'E', 'Z', 'I', 'L', 'E']"
      ]
    },
    {
      "cell_type": "code",
      "execution_count": 5,
      "metadata": {
        "id": "BuPMzC-g8JJV",
        "colab": {
          "base_uri": "https://localhost:8080/"
        },
        "outputId": "f7954ee5-b2fa-4746-e101-2eb29f7ac422"
      },
      "outputs": [
        {
          "output_type": "execute_result",
          "data": {
            "text/plain": [
              "['A', 'D', 'I', 'L', 'A', 'D', 'O', 'K', 'C', 'I', 'N']"
            ]
          },
          "metadata": {},
          "execution_count": 5
        }
      ],
      "source": [
        "# put your answer here\n",
        "\n",
        "def name():\n",
        "    name_stack = ['N','I','C','K','O','D','A','L','I','D','A']\n",
        "    name_stack.reverse()\n",
        "    return name_stack\n",
        "\n",
        "reverse_name()"
      ]
    },
    {
      "cell_type": "markdown",
      "metadata": {
        "id": "coRKfCPZ8JJV"
      },
      "source": [
        "#### 3. Remove elements using a stack\n",
        "\n",
        "Given this stack:\n",
        "\n",
        "numbers = [1,2,3,4,5,6,7,8,9,10]\n",
        "\n",
        "new_stack = []\n",
        "\n",
        "Using the **pop()** function, push elements in the **new_stack** if they are an **even number**\n",
        "\n",
        "-----------------\n",
        "\n",
        "**Expected output:**\n",
        "\n",
        "print(new_stack)\n",
        "\n",
        "[2,4,6,8,10]"
      ]
    },
    {
      "cell_type": "code",
      "execution_count": 6,
      "metadata": {
        "id": "zTXYampp8JJV",
        "colab": {
          "base_uri": "https://localhost:8080/"
        },
        "outputId": "562bb93a-8939-4e22-d4db-39609d36feec"
      },
      "outputs": [
        {
          "output_type": "execute_result",
          "data": {
            "text/plain": [
              "[2, 4, 6, 8, 10]"
            ]
          },
          "metadata": {},
          "execution_count": 6
        }
      ],
      "source": [
        "# put your answer here\n",
        "\n",
        "\n",
        "def numbers():\n",
        "\n",
        "    numbers = [1,2,3,4,5,6,7,8,9,10]\n",
        "\n",
        "    new_stack = []\n",
        "\n",
        "    while len(numbers) > 0:\n",
        "\n",
        "        num = numbers.pop()\n",
        "\n",
        "        if num % 2 == 0:\n",
        "            new_stack.append(num)\n",
        "\n",
        "    evennums = new_stack.copy()\n",
        "    evennums.reverse()\n",
        "\n",
        "    return evennums\n",
        "\n",
        "numbers()\n"
      ]
    },
    {
      "cell_type": "markdown",
      "metadata": {
        "id": "1s4LGmuT8JJW"
      },
      "source": [
        "#### 4. Inserting elements into a stack\n",
        "\n",
        "Given two stacks:\n",
        "\n",
        "my_stack = ['E', 'L', 'I', 'Z', 'E', 'R', 'P', 'O', 'N', 'I', 'O', 'J', 'R']\n",
        "\n",
        "empty_stack = []\n",
        "\n",
        "Use **pop()** to get each element from  **my_stack** and use **push()** to insert the element to **empty_stack** only if:\n",
        "\n",
        "1. The element is a **vowel**\n",
        "2. The element does not exist in **empty_stack**\n",
        "\n",
        "----------------------\n",
        "\n",
        "**Expected output:**\n",
        "\n",
        "print_stack(empty_stack)\n",
        "\n",
        "['E', 'I', 'O']"
      ]
    },
    {
      "cell_type": "code",
      "execution_count": 7,
      "metadata": {
        "id": "cGXh7yd18JJW",
        "colab": {
          "base_uri": "https://localhost:8080/"
        },
        "outputId": "4e0b34cf-0c40-4861-d5cc-3951629afb67"
      },
      "outputs": [
        {
          "output_type": "stream",
          "name": "stdout",
          "text": [
            "Vowels in your name: ['O', 'I', 'A']\n"
          ]
        }
      ],
      "source": [
        "# put your answer here\n",
        "\n",
        "def vowels():\n",
        "    my_stack = ['N','I','C','K','O','D','A','L','I','D','A']\n",
        "    empty_stack = []\n",
        "\n",
        "    while len(my_stack) > 0:\n",
        "\n",
        "        vowels = my_stack.pop()\n",
        "\n",
        "        if vowels in ['A','E','I','O','U'] and vowels not in empty_stack:\n",
        "            empty_stack.append(vowels)\n",
        "\n",
        "    empty_stack.reverse()\n",
        "\n",
        "    return empty_stack\n",
        "\n",
        "\n",
        "\n",
        "print(\"Vowels in your name:\", vowels())"
      ]
    },
    {
      "cell_type": "markdown",
      "metadata": {
        "id": "cwtpya5m8JJX"
      },
      "source": [
        "#### 5. Sort elements in a stack\n",
        "\n",
        "Given two stacks:\n",
        "\n",
        "number_stack = [3,1,2]\n",
        "\n",
        "sorted_stack = []\n",
        "\n",
        "Create a **sort()** function to pop each element from the **number_stack** and push each element into the **sorted_stack**. The elements in **sorted_stack** must be in ascending order.\n",
        "\n",
        "----------------\n",
        "\n",
        "**Hint:**\n",
        "\n",
        "| iteration | number_stack | sorted_stack |\n",
        "| --- | --- | --- |\n",
        "| 1 | [3, 1, 2] | [] |\n",
        "| 2 | [3, 1] | [2] |\n",
        "| 3 | [3, 2] | [1] |\n",
        "| 4 | [3] | [1, 2] |\n",
        "| 5 | [] | [1, 2, 3] |\n",
        "\n",
        "**Expected output:**\n",
        "\n",
        "print(sorted_stack)\n",
        "\n",
        "[1, 2, 3]"
      ]
    },
    {
      "cell_type": "code",
      "execution_count": 8,
      "metadata": {
        "id": "XrLee2zo8JJX",
        "colab": {
          "base_uri": "https://localhost:8080/"
        },
        "outputId": "2cb19ba2-1d64-42bb-e8ba-3deb9c1cc613"
      },
      "outputs": [
        {
          "output_type": "stream",
          "name": "stdout",
          "text": [
            "popped  2  from number_stack\n",
            "pushed  2  to sorted_stack\n",
            "popped  1  from number_stack\n",
            "popped  2  from sorted_stack\n",
            "pushed  2  to number_stack\n",
            "pushed  1  to sorted_stack\n",
            "popped  2  from number_stack\n",
            "popped  1  from sorted_stack\n",
            "pushed  1  to sorted_stack\n",
            "pushed  2  to sorted_stack\n",
            "popped  3  from number_stack\n",
            "popped  2  from sorted_stack\n",
            "pushed  2  to sorted_stack\n",
            "pushed  3  to sorted_stack\n"
          ]
        },
        {
          "output_type": "execute_result",
          "data": {
            "text/plain": [
              "[1, 2, 3]"
            ]
          },
          "metadata": {},
          "execution_count": 8
        }
      ],
      "source": [
        "# put your answer here\n",
        "def sort_stack():\n",
        "\n",
        "    number_stack = [3,1,2]\n",
        "\n",
        "    sorted_stack = []\n",
        "\n",
        "    while len(number_stack) > 0:\n",
        "\n",
        "        num1 = number_stack.pop()\n",
        "\n",
        "        print(\"popped \", num1, \" from number_stack\")\n",
        "\n",
        "        if len(sorted_stack) == 0:\n",
        "\n",
        "             sorted_stack.append(num1)\n",
        "\n",
        "             print(\"pushed \", num1 ,\" to sorted_stack\")\n",
        "\n",
        "        elif len(sorted_stack) > 0:\n",
        "\n",
        "            num2 = sorted_stack.pop()\n",
        "\n",
        "            print(\"popped \", num2,\" from sorted_stack\")\n",
        "\n",
        "            if num1 > num2:\n",
        "\n",
        "                sorted_stack.append(num2)\n",
        "\n",
        "                print(\"pushed \", num2 ,\" to sorted_stack\")\n",
        "\n",
        "                sorted_stack.append(num1)\n",
        "\n",
        "                print(\"pushed \", num1 ,\" to sorted_stack\")\n",
        "\n",
        "            elif num1 < num2:\n",
        "\n",
        "                number_stack.append(num2)\n",
        "\n",
        "                print(\"pushed \", num2 ,\" to number_stack\")\n",
        "\n",
        "                sorted_stack.append(num1)\n",
        "\n",
        "                print(\"pushed \", num1 ,\" to sorted_stack\")\n",
        "\n",
        "    return sorted_stack\n",
        "\n",
        "sort_stack()"
      ]
    }
  ]
}