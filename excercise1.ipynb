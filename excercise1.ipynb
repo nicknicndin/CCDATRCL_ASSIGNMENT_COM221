class Node:
    
    def __init__(self, data):
        self.data = data
        self.next = None
        self.prev = None
        
class LinkedList:
    
    def __init__(self):
        self.head = None
        
    def traverse(self, node):
        while node:
            print(node.data, end=" -> ")
            node = node.next

linked_list = LinkedList()

linked_list.head    = Node("Andrew")
node2             = Node("Mico")
node3              = Node("Aldrin")
node4              = Node("Juan")
node5              = Node("Pedro")

linked_list.head.next = node2
node2.next = node3
node3.next = node4
node4.next = node5
node5.next = None
linked_list.traverse(linked_list.head)
