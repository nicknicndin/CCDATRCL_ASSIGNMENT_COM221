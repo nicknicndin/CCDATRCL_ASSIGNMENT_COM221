class Node:
    
    def __init__(self, data):
        self.data = data
        self.next = None
        self.prev = None
        
class LinkedList:
    
    def __init__(self):
        self.head = None
        
    def traverse(self, node):
        while node:
            print(node.data, end=" -> ")
            node = node.next

linked_list = LinkedList()

linked_list.head    = Node("Andrew")
node2             = Node("Mico")
node3              = Node("Aldrin")
node4              = Node("Juan")
node5              = Node("Pedro")

linked_list.head.next = node2
node2.next = node3
node3.next = node4
node4.next = node5
node5.next = None
linked_list.traverse(linked_list.head)






class DoubleLinkedList:

    def __init__ (self):
        self.head = None

    def traverse(self, node):

        while node:
              print(node.data, end=" -> ")
              node = node.next

doubly_linked_list = DoubleLinkedList()

doubly_linked_list.head = Node("Andrew")
node2                   = Node("Mico")
node3                   = Node("Aldrin")
node4                   = Node("Juan")
node5                   = Node("Pedro")



doubly_linked_list.head.next = node2
doubly_linked_list.head.prev = None



node2.next = node3
node2.prev = doubly_linked_list.head

node3.next = node4
node3.prev = node2

node4.next = node5
node4.prev = node3


node5.prev = node4
node5.next = None




print("value of head node is: " , doubly_linked_list.head.data)
print("prev of head node is: " , doubly_linked_list.head.prev)

print("-----")

print("value of node2 is: " , node2.data)
print("prev of node2 is: " , node2.prev.data)

print("-----")

print("value of node3 is: " , node3.data)
print("prev of node3 is: " , node3.prev.data)

print("-----")

print("value of node4 is: " , node4.data)
print("prev of node4 is: " , node4.prev.data)

print("-----")

print("value of node5 is: " , node5.data)
print("prev of node5 is: " , node5.prev.data)





doubly_linked_list.traverse(doubly_linked_list.head)









class CircularLinkedList:

    def __init__(self):
        self.head = None

    def traverse(self, node):

        head = node

        while node:
               print(node.data, end=" -> ")
               node = node.next

               if node == head:
                    break



circular_linked_list = CircularLinkedList()

circular_linked_list.head = Node("Andrew")
node2                   = Node("Mico")
node3                   = Node("Aldrin")
node4                   = Node("Juan")
node5                   = Node("Pedro")



circular_linked_list.head.next = node2
node2.next = node3
node3.next = node4
node4.next = node5
node5.next = circular_linked_list.head

print("value of head is :", circular_linked_list.head.data)
print("value of next to head is :", circular_linked_list.head.next.data)

print("---")

print("value of node2 is :", node2.data)
print("value of next of node2 is :", node2.next.data)

print("---")

print("value of node3 is :", node3.data)
print("value of next of node3 is :", node3.next.data)

print("---")

print("value of node4 is :", node4.data)
print("value of next of node4 is :", node4.next.data)

print("---")

print("value of node5 is :", node5.data)
print("value of next of node5 is :", node5.next.data)





circular_linked_list.traverse(circular_linked_list.head)              








