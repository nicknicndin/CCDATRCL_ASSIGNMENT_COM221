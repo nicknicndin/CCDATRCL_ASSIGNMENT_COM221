{
 "cells": [
  {
   "cell_type": "code",
   "execution_count": 1,
   "metadata": {},
   "outputs": [
    {
     "ename": "TypeError",
     "evalue": "Node() takes no arguments",
     "output_type": "error",
     "traceback": [
      "\u001b[1;31m---------------------------------------------------------------------------\u001b[0m",
      "\u001b[1;31mTypeError\u001b[0m                                 Traceback (most recent call last)",
      "Cell \u001b[1;32mIn[1], line 21\u001b[0m\n\u001b[0;32m     16\u001b[0m             node \u001b[39m=\u001b[39m node\u001b[39m.\u001b[39mnext\n\u001b[0;32m     19\u001b[0m linked_list \u001b[39m=\u001b[39m SingleList()\n\u001b[1;32m---> 21\u001b[0m linked_list\u001b[39m.\u001b[39mhead \u001b[39m=\u001b[39m Node(\u001b[39m\"\u001b[39;49m\u001b[39mAndrew\u001b[39;49m\u001b[39m\"\u001b[39;49m)\n\u001b[0;32m     22\u001b[0m node2 \u001b[39m=\u001b[39m Node(\u001b[39m\"\u001b[39m\u001b[39mMico\u001b[39m\u001b[39m\"\u001b[39m)\n\u001b[0;32m     23\u001b[0m node3 \u001b[39m=\u001b[39m Node(\u001b[39m\"\u001b[39m\u001b[39mAldrin\u001b[39m\u001b[39m\"\u001b[39m)\n",
      "\u001b[1;31mTypeError\u001b[0m: Node() takes no arguments"
     ]
    }
   ],
   "source": [
    "class Node:\n",
    "\n",
    "    def __int__(self , data):\n",
    "        self.data = data\n",
    "        self.next = None\n",
    "\n",
    "class SingleList:\n",
    "\n",
    "    def __int__(self):\n",
    "        self.head = None\n",
    "\n",
    "\n",
    "    def __traverse__(self, node):\n",
    "        while node:\n",
    "            print(node.data, end = \" -> \")\n",
    "            node = node.next\n",
    "\n",
    "\n",
    "linked_list = SingleList()\n",
    "\n",
    "linked_list.head = Node(\"Andrew\")\n",
    "node2 =            Node(\"Mico\")\n",
    "node3 =            Node(\"Aldrin\")\n",
    "node4 =            Node(\"Juan\")\n",
    "node5 =            Node(\"Pedro\")\n",
    "\n",
    "linked_list.head.next = node2\n",
    "node2.next = node3\n",
    "node3.next = node4\n",
    "node4.next = node5\n",
    "\n",
    "\n",
    "\n",
    "linked_list.traverse(linked_list.head)\n",
    "\n",
    "\n",
    "\n"
   ]
  }
 ],
 "metadata": {
  "kernelspec": {
   "display_name": "base",
   "language": "python",
   "name": "python3"
  },
  "language_info": {
   "codemirror_mode": {
    "name": "ipython",
    "version": 3
   },
   "file_extension": ".py",
   "mimetype": "text/x-python",
   "name": "python",
   "nbconvert_exporter": "python",
   "pygments_lexer": "ipython3",
   "version": "3.11.4"
  },
  "orig_nbformat": 4
 },
 "nbformat": 4,
 "nbformat_minor": 2
}
