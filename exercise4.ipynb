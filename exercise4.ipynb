{
  "cells": [
    {
      "cell_type": "markdown",
      "metadata": {
        "id": "view-in-github",
        "colab_type": "text"
      },
      "source": [
        "<a href=\"https://colab.research.google.com/github/nicknicndin/CCDATRCL_ASSIGNMENT_COM221/blob/main/exercise4.ipynb\" target=\"_parent\"><img src=\"https://colab.research.google.com/assets/colab-badge.svg\" alt=\"Open In Colab\"/></a>"
      ]
    },
    {
      "cell_type": "markdown",
      "metadata": {
        "id": "fCO3VeNzvGDc"
      },
      "source": [
        "# Exercise 4"
      ]
    },
    {
      "cell_type": "markdown",
      "metadata": {
        "id": "UCFGr2qPKONg"
      },
      "source": [
        "#### Pre-defined sorting algorithms"
      ]
    },
    {
      "cell_type": "code",
      "execution_count": 101,
      "metadata": {
        "id": "dXWXOLWtKONg"
      },
      "outputs": [],
      "source": [
        "def mergeSort(arr):\n",
        "    global merge_sort_num_steps\n",
        "    if len(arr) > 1:\n",
        "        mid = len(arr) // 2\n",
        "        left_half = arr[:mid]\n",
        "        right_half = arr[mid:]\n",
        "\n",
        "        merge_sort(left_half)\n",
        "        merge_sort(right_half)\n",
        "\n",
        "        i = j = k = 0\n",
        "\n",
        "        while i < len(left_half) and j < len(right_half):\n",
        "            merge_sort_num_steps += 1\n",
        "            if left_half[i] < right_half[j]:\n",
        "                arr[k] = left_half[i]\n",
        "                i += 1\n",
        "            else:\n",
        "                arr[k] = right_half[j]\n",
        "                j += 1\n",
        "            k += 1\n",
        "\n",
        "        while i < len(left_half):\n",
        "            merge_sort_num_steps += 1\n",
        "            arr[k] = left_half[i]\n",
        "            i += 1\n",
        "            k += 1\n",
        "\n",
        "        while j < len(right_half):\n",
        "            merge_sort_num_steps += 1\n",
        "            arr[k] = right_half[j]\n",
        "            j += 1\n",
        "            k += 1\n"
      ]
    },
    {
      "cell_type": "code",
      "execution_count": 100,
      "metadata": {
        "id": "OB-JMVxvKONi"
      },
      "outputs": [],
      "source": [
        "def countingSort(arr):\n",
        "    global counting_sort_num_steps\n",
        "    max_val = max(arr)\n",
        "    min_val = min(arr)\n",
        "    range_of_elements = max_val - min_val + 1\n",
        "    count_arr = [0] * range_of_elements\n",
        "    output_arr = [0] * len(arr)\n",
        "\n",
        "    for i in range(len(arr)):\n",
        "        counting_sort_num_steps += 1\n",
        "        count_arr[arr[i] - min_val] += 1\n",
        "\n",
        "    for i in range(1, len(count_arr)):\n",
        "        counting_sort_num_steps += 1\n",
        "        count_arr[i] += count_arr[i - 1]\n",
        "\n",
        "    for i in range(len(arr) - 1, -1, -1):\n",
        "        counting_sort_num_steps += 1\n",
        "        output_arr[count_arr[arr[i] - min_val] - 1] = arr[i]\n",
        "        count_arr[arr[i] - min_val] -= 1\n",
        "\n",
        "    for i in range(len(arr)):\n",
        "        counting_sort_num_steps += 1\n",
        "        arr[i] = output_arr[i]\n"
      ]
    },
    {
      "cell_type": "code",
      "execution_count": 87,
      "metadata": {
        "id": "VXaukk4_KONj"
      },
      "outputs": [],
      "source": [
        "def insertionSort(array):\n",
        "    global steps\n",
        "    for step in range(1, len(array)):\n",
        "        key = array[step]\n",
        "        j = step - 1\n",
        "\n",
        "        # Compare key with each element on the left of it until an element smaller than it is found\n",
        "        # For descending order, change key<array[j] to key>array[j].\n",
        "        while j >= 0 and key < array[j]:\n",
        "            array[j + 1] = array[j]\n",
        "            j = j - 1\n",
        "            steps += 1\n",
        "\n",
        "        # Place key at after the element just smaller than it.\n",
        "        array[j + 1] = key\n",
        "        steps += 1"
      ]
    },
    {
      "cell_type": "code",
      "execution_count": 67,
      "metadata": {
        "id": "b4yWHH1nKONj"
      },
      "outputs": [],
      "source": [
        "# Bubble sort in Python\n",
        "def bubbleSort(arr):\n",
        "    n = len(arr)\n",
        "    swaps = 0\n",
        "\n",
        "    for i in range(n - 1):\n",
        "        for j in range(0, n - i - 1):\n",
        "            if arr[j] > arr[j + 1]:\n",
        "                arr[j], arr[j + 1] = arr[j + 1], arr[j]\n",
        "                swaps += 1\n",
        "\n",
        "    return swaps"
      ]
    },
    {
      "cell_type": "markdown",
      "metadata": {
        "id": "6j9PZVsyvGDe"
      },
      "source": [
        "#### 1. Sort your **student number** in **ascending order**\n",
        "\n",
        "Example:\n",
        "\n",
        "**Input: 2022123456**\n",
        "\n",
        "**Output: 0122223456**"
      ]
    },
    {
      "cell_type": "code",
      "execution_count": 66,
      "metadata": {
        "id": "UuNMRCm3vGDe",
        "colab": {
          "base_uri": "https://localhost:8080/"
        },
        "outputId": "37436739-0bc5-4663-9346-906f49983568"
      },
      "outputs": [
        {
          "output_type": "stream",
          "name": "stdout",
          "text": [
            "[0, 0, 1, 2, 2, 2, 2, 3, 6, 7]\n"
          ]
        }
      ],
      "source": [
        "# put your answer here\n",
        "\n",
        "studNum = [2,0,2,2,1,0,2,3,7,6]\n",
        "\n",
        "mergeSort(studNum)\n",
        "\n",
        "print(studNum)"
      ]
    },
    {
      "cell_type": "markdown",
      "metadata": {
        "id": "felukBjnvGDf"
      },
      "source": [
        "#### 2. Sort the **dates** in **ascending order**.\n",
        "\n",
        "dates = [\"12-25-2023\", birthday, \"01-01-2023\"]\n",
        "\n",
        "Enter your birthday in the birthday variable."
      ]
    },
    {
      "cell_type": "code",
      "execution_count": 69,
      "metadata": {
        "id": "f8xQ3N0jvGDg",
        "colab": {
          "base_uri": "https://localhost:8080/"
        },
        "outputId": "e2e793d7-3c06-4621-97be-ea03eea5c2da"
      },
      "outputs": [
        {
          "output_type": "stream",
          "name": "stdout",
          "text": [
            "['07-11-2004', '01-01-2023', '12-25-2023']\n"
          ]
        }
      ],
      "source": [
        "# put your answer here\n",
        "def format_date(date_str):\n",
        "    parts = date_str.split(\"-\")\n",
        "    return int(parts[2]), int(parts[0]), int(parts[1])  # Year, Month, Day\n",
        "\n",
        "# Your birthday s mm-dd-yyyyhould be in\n",
        "birthday = [\"07-11-2004\"]\n",
        "dates = [\"12-25-2023\", \"01-01-2023\", birthday[0]]\n",
        "\n",
        "\n",
        "formatted_dates = [format_date(date) for date in dates]\n",
        "\n",
        "\n",
        "mergeSort(formatted_dates)\n",
        "\n",
        "\n",
        "sorted_dates = [f\"{day:02d}-{month:02d}-{year:02d}\" for (year, day, month) in formatted_dates]\n",
        "print(sorted_dates)"
      ]
    },
    {
      "cell_type": "markdown",
      "metadata": {
        "id": "IFDPeGZxvGDg"
      },
      "source": [
        "#### 3. Count the **total number of swaps** to sort the list below using **Bubble Sort**\n",
        "\n",
        "|3|2|5|1|4|\n",
        "|---|----|---|---|---|"
      ]
    },
    {
      "cell_type": "code",
      "execution_count": 68,
      "metadata": {
        "id": "b1ppwLcevGDg",
        "outputId": "64897e8b-52c7-4d3f-c4f7-f840aa1ab67a",
        "colab": {
          "base_uri": "https://localhost:8080/"
        }
      },
      "outputs": [
        {
          "output_type": "stream",
          "name": "stdout",
          "text": [
            "Sorted list: [1, 2, 3, 4, 5]\n",
            "Total number of swaps: 5\n"
          ]
        }
      ],
      "source": [
        "# put your answer here\n",
        "\n",
        "\n",
        "list = [3,2,5,1,4]\n",
        "swaps = bubbleSort(list)\n",
        "\n",
        "print(\"Sorted list:\", list)\n",
        "print(\" number of swaps:\", swaps)"
      ]
    },
    {
      "cell_type": "markdown",
      "metadata": {
        "id": "iO2UusQWvGDi"
      },
      "source": [
        "#### 4. Count the **total number of steps** to sort the list below using **Insertion Sort**\n",
        "\n",
        "\n",
        "|6|2|5|7|4|1|8|9|3|\n",
        "|---|---|---|---|---|---|---|---|---|"
      ]
    },
    {
      "cell_type": "code",
      "execution_count": 88,
      "metadata": {
        "id": "vq1PYEjmvGDi",
        "outputId": "3f5324a4-b59c-4afe-a707-4ffae13e6cc4",
        "colab": {
          "base_uri": "https://localhost:8080/"
        }
      },
      "outputs": [
        {
          "output_type": "stream",
          "name": "stdout",
          "text": [
            "Sorted Array in Ascending Order:\n",
            "[1, 2, 3, 4, 5, 6, 7, 8, 9]\n",
            "24\n"
          ]
        }
      ],
      "source": [
        "# put your answer here\n",
        "steps = 0\n",
        "\n",
        "data = [6,2,5,7,4,1,8,9,3]\n",
        "insertionSort(data)\n",
        "\n",
        "print('Sorted Array in Ascending Order:')\n",
        "print(data)\n",
        "\n",
        "numberofsteps = steps\n",
        "print(numberofsteps)"
      ]
    },
    {
      "cell_type": "markdown",
      "metadata": {
        "id": "jpfNCCdbvGDj"
      },
      "source": [
        "#### 5. Given the list below:\n",
        "\n",
        "\n",
        "|7|5|4|3|2|5|1|8|\n",
        "|---|---|---|---|---|---|---|---|\n",
        "\n",
        "Using **merge sort** and **counting sort**\n",
        "\n",
        "Determine which sorting algorithm is faster by counting the total number of steps for each algorithm\n"
      ]
    },
    {
      "cell_type": "code",
      "execution_count": 103,
      "metadata": {
        "id": "2YVK17cSvGDj",
        "outputId": "dd3c0424-1085-4386-a34a-26b3600eb5af",
        "colab": {
          "base_uri": "https://localhost:8080/"
        }
      },
      "outputs": [
        {
          "output_type": "stream",
          "name": "stdout",
          "text": [
            "Merge sort is faster\n",
            "Total number of steps for Merge Sort: 24\n",
            "Total number of steps for Counting Sort: 31\n"
          ]
        }
      ],
      "source": [
        "# put your answer here\n",
        "\n",
        "list = [7, 5, 4, 3, 2, 5, 1, 8]\n",
        "\n",
        "merge_sort_num_steps = 0\n",
        "counting_sort_num_steps = 0\n",
        "\n",
        "merge_sort_list = list.copy()\n",
        "counting_sort_list = list.copy()\n",
        "\n",
        "mergeSort(merge_sort_list)\n",
        "countingSort(counting_sort_list)\n",
        "\n",
        "if merge_sort_num_steps < counting_sort_num_steps:\n",
        "    print(\"Merge sort is faster\")\n",
        "else:\n",
        "    print(\"Counting sort is faster\")\n",
        "\n",
        "print(\"Total number of steps for Merge Sort:\", merge_sort_num_steps)\n",
        "print(\"Total number of steps for Counting Sort:\", counting_sort_num_steps)"
      ]
    }
  ],
  "metadata": {
    "colab": {
      "provenance": [],
      "include_colab_link": true
    },
    "kernelspec": {
      "display_name": "Python 3",
      "language": "python",
      "name": "python3"
    },
    "language_info": {
      "codemirror_mode": {
        "name": "ipython",
        "version": 3
      },
      "file_extension": ".py",
      "mimetype": "text/x-python",
      "name": "python",
      "nbconvert_exporter": "python",
      "pygments_lexer": "ipython3",
      "version": "3.11.4"
    },
    "orig_nbformat": 4
  },
  "nbformat": 4,
  "nbformat_minor": 0
}