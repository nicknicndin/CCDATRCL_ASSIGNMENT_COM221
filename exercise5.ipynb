{
  "cells": [
    {
      "cell_type": "markdown",
      "metadata": {
        "id": "view-in-github",
        "colab_type": "text"
      },
      "source": [
        "<a href=\"https://colab.research.google.com/github/nicknicndin/CCDATRCL_ASSIGNMENT_COM221/blob/main/exercise5.ipynb\" target=\"_parent\"><img src=\"https://colab.research.google.com/assets/colab-badge.svg\" alt=\"Open In Colab\"/></a>"
      ]
    },
    {
      "cell_type": "markdown",
      "metadata": {
        "id": "DN15rkKvhGBr"
      },
      "source": [
        "# Exercise 5"
      ]
    },
    {
      "cell_type": "markdown",
      "metadata": {
        "id": "oEys_5t7hGBt"
      },
      "source": [
        "#### 1. Create a dictionary of your 10 favorite songs."
      ]
    },
    {
      "cell_type": "markdown",
      "metadata": {
        "id": "T1iOtzXshGBu"
      },
      "source": [
        "Example:\n",
        "\n",
        "|KEY|VALUE|\n",
        "|---|---|\n",
        "|001|My Love|\n",
        "|002|Like a rose|"
      ]
    },
    {
      "cell_type": "code",
      "execution_count": 1,
      "metadata": {
        "id": "dprOhMRchGBu",
        "outputId": "2501eddd-355d-4d6a-a6d5-8fc7a8efdcc4",
        "colab": {
          "base_uri": "https://localhost:8080/"
        }
      },
      "outputs": [
        {
          "output_type": "stream",
          "name": "stdout",
          "text": [
            "{'001': 'Autumn', '002': '33 De Lorean', '003': 'Mossa Downtown', '004': 'Happiness is a buttefly', '005': 'Infinity', '006': '18', '007': 'homesick', '008': 'Solomon', '009': 'Mekus Mekus', '010': 'Mundo'}\n"
          ]
        }
      ],
      "source": [
        "mydictionary = {\n",
        "  \"001\": \"Autumn\",\n",
        "  \"002\": \"33 De Lorean\",\n",
        "  \"003\": \"Mossa Downtown\",\n",
        "  \"004\": \"Happiness is a buttefly\",\n",
        "  \"005\": \"Infinity\",\n",
        "  \"006\": \"18\",\n",
        "  \"007\": \"homesick\",\n",
        "  \"008\": \"Solomon\",\n",
        "  \"009\": \"Mekus Mekus\",\n",
        "  \"010\": \"Mundo\",\n",
        "\n",
        "\n",
        "}\n",
        "print(mydictionary)"
      ]
    },
    {
      "cell_type": "markdown",
      "metadata": {
        "id": "g1FstA7XhGBv"
      },
      "source": [
        "#### 2. Loop through the dictionary by its **key** and **value**"
      ]
    },
    {
      "cell_type": "code",
      "execution_count": 2,
      "metadata": {
        "id": "QgyUTiuHhGBv",
        "outputId": "332e55d9-cf77-42d0-9977-12f49d92a019",
        "colab": {
          "base_uri": "https://localhost:8080/"
        }
      },
      "outputs": [
        {
          "output_type": "stream",
          "name": "stdout",
          "text": [
            "001 Autumn\n",
            "002 33 De Lorean\n",
            "003 Mossa Downtown\n",
            "004 Happiness is a buttefly\n",
            "005 Infinity\n",
            "006 18\n",
            "007 homesick\n",
            "008 Solomon\n",
            "009 Mekus Mekus\n",
            "010 Mundo\n"
          ]
        }
      ],
      "source": [
        "for x, y in mydictionary.items():\n",
        "  print(x, y)"
      ]
    },
    {
      "cell_type": "markdown",
      "metadata": {
        "id": "h5N_w8-yhGBw"
      },
      "source": [
        "#### 3. Add one additional song"
      ]
    },
    {
      "cell_type": "code",
      "execution_count": 5,
      "metadata": {
        "id": "oUXMAJWEhGBw",
        "outputId": "65eea955-ac1b-44b8-e131-23ed4bac6e59",
        "colab": {
          "base_uri": "https://localhost:8080/"
        }
      },
      "outputs": [
        {
          "output_type": "execute_result",
          "data": {
            "text/plain": [
              "{'001': 'Autumn',\n",
              " '002': '33 De Lorean',\n",
              " '003': 'Mossa Downtown',\n",
              " '004': 'Happiness is a buttefly',\n",
              " '005': 'Infinity',\n",
              " '006': '18',\n",
              " '007': 'homesick',\n",
              " '008': 'Solomon',\n",
              " '009': 'Mekus Mekus',\n",
              " '010': 'Mundo',\n",
              " '011': 'Thai Freestyle'}"
            ]
          },
          "metadata": {},
          "execution_count": 5
        }
      ],
      "source": [
        "mydictionary[\"011\"] = \"Thai Freestyle\"\n",
        "mydictionary"
      ]
    },
    {
      "cell_type": "markdown",
      "metadata": {
        "id": "7OlW5r9dhGBx"
      },
      "source": [
        "#### 4. Remove one song"
      ]
    },
    {
      "cell_type": "code",
      "execution_count": 6,
      "metadata": {
        "id": "g39mqwpDhGBx",
        "outputId": "d4f25edb-ba21-41a6-cedc-d3f8288ba449",
        "colab": {
          "base_uri": "https://localhost:8080/"
        }
      },
      "outputs": [
        {
          "output_type": "execute_result",
          "data": {
            "text/plain": [
              "{'001': 'Autumn',\n",
              " '002': '33 De Lorean',\n",
              " '003': 'Mossa Downtown',\n",
              " '004': 'Happiness is a buttefly',\n",
              " '005': 'Infinity',\n",
              " '006': '18',\n",
              " '007': 'homesick',\n",
              " '008': 'Solomon',\n",
              " '009': 'Mekus Mekus',\n",
              " '010': 'Mundo'}"
            ]
          },
          "metadata": {},
          "execution_count": 6
        }
      ],
      "source": [
        "mydictionary.pop(\"011\")\n",
        "mydictionary"
      ]
    },
    {
      "cell_type": "markdown",
      "metadata": {
        "id": "gZ8Sr1bzhGBy"
      },
      "source": [
        "#### 5. Create a nested dictionary of your 10 favorite songs with 5 genres. Display all of the items of the nested dictionary\n",
        "\n",
        "- Each nested dictionary's key should be the genre of the song\n",
        "- Put each song in their respective genre"
      ]
    },
    {
      "cell_type": "markdown",
      "metadata": {
        "id": "US1ZaaSJhGBy"
      },
      "source": [
        "Example:\n",
        "\n",
        "\n",
        "|KEY|VALUE|\n",
        "|---|---|\n",
        "|Pop|{001, Baby}|\n",
        "|Rock|{001, Enter Sandman}|"
      ]
    },
    {
      "cell_type": "code",
      "execution_count": 10,
      "metadata": {
        "id": "z577KULkhGBz",
        "outputId": "90e63009-d7ca-4c09-8d57-19cd1f5e2178",
        "colab": {
          "base_uri": "https://localhost:8080/"
        }
      },
      "outputs": [
        {
          "output_type": "execute_result",
          "data": {
            "text/plain": [
              "{'Pop': {'001': 'Autumn',\n",
              "  '004': 'Happiness is a buttefly',\n",
              "  '005': 'Infinity',\n",
              "  '006': '18',\n",
              "  '007': 'homesick'},\n",
              " 'opm': {'008': 'Solomon', '010': 'Mundo'},\n",
              " 'geng geng': {'002': '33 De Lorean', '003': 'Stiches', '009': 'Mekus Mekus'}}"
            ]
          },
          "metadata": {},
          "execution_count": 10
        }
      ],
      "source": [
        "mydictionary = {\n",
        "  \"Pop\" : {\n",
        "    \"001\" : \"Autumn\",\n",
        "    \"004\" : \"Happiness is a buttefly\",\n",
        "    \"005\" : \"Infinity\",\n",
        "    \"006\" : \"18\",\n",
        "    \"007\" : \"homesick\" ,\n",
        "  },\n",
        "  \"opm\" : {\n",
        "    \"008\" : \"Solomon\",\n",
        "    \"010\" : \"Mundo\" ,\n",
        "  },\n",
        "  \"geng geng\" : {\n",
        "    \"002\": \"33 De Lorean\",\n",
        "    \"003\" : \"Stiches\" ,\n",
        "    \"009\" : \"Mekus Mekus\",\n",
        "  }\n",
        "\n",
        "}\n",
        "\n",
        "mydictionary"
      ]
    },
    {
      "cell_type": "markdown",
      "metadata": {
        "id": "ZMgltzOkhGBz"
      },
      "source": [
        "#### 6. Print the first song of the first genre"
      ]
    },
    {
      "cell_type": "code",
      "execution_count": 11,
      "metadata": {
        "id": "nmXUGoNWhGBz",
        "outputId": "0249da10-3c58-414d-fb70-90a31ce075a8",
        "colab": {
          "base_uri": "https://localhost:8080/"
        }
      },
      "outputs": [
        {
          "output_type": "stream",
          "name": "stdout",
          "text": [
            "Autumn\n"
          ]
        }
      ],
      "source": [
        "print(mydictionary[\"Pop\"][\"001\"])"
      ]
    },
    {
      "cell_type": "markdown",
      "metadata": {
        "id": "dEcgwp_ihGB0"
      },
      "source": [
        "#### 7. Print the first song of the last genre"
      ]
    },
    {
      "cell_type": "code",
      "execution_count": 14,
      "metadata": {
        "id": "ITbuWq2UhGB0",
        "outputId": "9e263217-0b96-4ce0-d2bf-f0076437508b",
        "colab": {
          "base_uri": "https://localhost:8080/"
        }
      },
      "outputs": [
        {
          "output_type": "stream",
          "name": "stdout",
          "text": [
            "33 De Lorean\n"
          ]
        }
      ],
      "source": [
        "print(mydictionary[\"geng geng\"][\"002\"])"
      ]
    }
  ],
  "metadata": {
    "kernelspec": {
      "display_name": "Python 3",
      "language": "python",
      "name": "python3"
    },
    "language_info": {
      "codemirror_mode": {
        "name": "ipython",
        "version": 3
      },
      "file_extension": ".py",
      "mimetype": "text/x-python",
      "name": "python",
      "nbconvert_exporter": "python",
      "pygments_lexer": "ipython3",
      "version": "3.11.4"
    },
    "orig_nbformat": 4,
    "colab": {
      "provenance": [],
      "include_colab_link": true
    }
  },
  "nbformat": 4,
  "nbformat_minor": 0
}